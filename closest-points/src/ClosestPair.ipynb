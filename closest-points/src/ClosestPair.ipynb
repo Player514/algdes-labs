{
 "cells": [
  {
   "cell_type": "code",
   "execution_count": 192,
   "metadata": {},
   "outputs": [
    {
     "name": "stdout",
     "output_type": "stream",
     "text": [
      "9\n"
     ]
    },
    {
     "data": {
      "image/png": "[encoded data removed]",
      "text/plain": [
       "<Figure size 432x288 with 1 Axes>"
      ]
     },
     "metadata": {
      "needs_background": "light"
     },
     "output_type": "display_data"
    }
   ],
   "source": [
    "import matplotlib.pyplot as plt\n",
    "import sys\n",
    "import math\n",
    "\n",
    "points = [(1,2),(3,4),(5,6),(5,3),(21,42),(31,4),(5,64),(6.2,7.1),(6.2,7.2)]\n",
    "print(len(points))\n",
    "x = []\n",
    "y = []\n",
    "for i in points:\n",
    "    x.append(i[0])\n",
    "    y.append(i[1])\n",
    "\n",
    "plt.scatter(x,y)\n",
    "plt.show()"
   ]
  },
  {
   "cell_type": "code",
   "execution_count": 193,
   "metadata": {},
   "outputs": [],
   "source": [
    "#Get Middle\n",
    "def Split(points):\n",
    "    sortbyx = sorted(points, key=lambda x: x[0])\n",
    "    \n",
    "    sbxmiddle = int(len(sortbyx)/2)\n",
    "    \n",
    "    sbxpart1 = sortbyx[:sbxmiddle]\n",
    "    sbxpart2 = sortbyx[sbxmiddle:]  \n",
    "    \n",
    "    #plt.plot([sbxmiddle, sbxmiddle], [0, 250], 'k-', lw=2)\n",
    "    #plt.scatter(x,y)\n",
    "    #plt.show()\n",
    "    \n",
    "    return sbxpart1, sbxpart2, sbxmiddle\n",
    "    "
   ]
  },
  {
   "cell_type": "code",
   "execution_count": 194,
   "metadata": {},
   "outputs": [],
   "source": [
    "\n",
    "def ClosestPair(points,closest1):\n",
    "#    print(\"---------------\")\n",
    "#    print(\"Called ClosestPair\")\n",
    "#    print(points)\n",
    "#    print(\"---------------\")\n",
    "    closest = closest1\n",
    "    if(len(points) > 2):\n",
    "        part1,part2,middle = Split(points)\n",
    "        maybeclosest = ClosestPair(part1,closest1)\n",
    "#        print(points)\n",
    "        if(maybeclosest < closest):\n",
    "            closest = maybeclosest\n",
    "        maybeclosest = ClosestPair(part2,closest1)\n",
    "        if(maybeclosest < closest):\n",
    "            closest = maybeclosest\n",
    "\n",
    "        #DO BAR THING\n",
    "        #if item between middle+bar/2 and middle-bar/2\n",
    "        inbar = []\n",
    "        for i in points:\n",
    "            if(i[0] < middle+closest/2 and i[0] > middle-closest/2):\n",
    "                inbar.append(i)\n",
    "#        print(\"inbar: \" + str(len(inbar)))\n",
    "        if(len(inbar) <= 1):\n",
    "            pass #only 1 inside\n",
    "        elif(len(inbar) < 4):\n",
    "#            print(\"---------------\")\n",
    "#            print(\"Called Bar\")\n",
    "#            print(inbar)\n",
    "#            print(\"---------------\")\n",
    "            maybeclosest = findClosest(inbar)\n",
    "            if(maybeclosest < closest):\n",
    "                closest = maybeclosest\n",
    "        else:\n",
    "            maybeclosest = ClosestPair(inbar,closest)\n",
    "            if(maybeclosest < closest):\n",
    "                closest = maybeclosest\n",
    "        return closest\n",
    "    elif(len(points) <= 1):\n",
    "        return closest\n",
    "    else: #2\n",
    "        if(len(points) != 2):\n",
    "            print(\"Error points don't eqaul 2\")\n",
    "        maybeclosest = findClosest(points)\n",
    "        if(maybeclosest < closest):\n",
    "            closest = maybeclosest\n",
    "        return closest\n",
    "\n",
    "\n",
    "def findClosest(points):\n",
    "    if(len(points) == 2):\n",
    "        distance1 = math.sqrt((points[0][0]-points[1][0])**2 + (points[0][1]-points[1][1])**2)\n",
    "        print(distance1)\n",
    "        return distance1\n",
    "    elif(len(points) == 3):\n",
    "        distance1 = math.sqrt((points[0][0]-points[1][0])**2 + (points[0][1]-points[1][1])**2)\n",
    "        distance2 = math.sqrt((points[1][0]-points[2][0])**2 + (points[1][1]-points[2][1])**2)\n",
    "        distance3 = math.sqrt((points[2][0]-points[0][0])**2 + (points[2][1]-points[0][1])**2)\n",
    "        print(distance1)\n",
    "        print(distance2)\n",
    "        print(distance3)\n",
    "        return min(distance1,distance2,distance3)\n",
    "    else:\n",
    "        print(\"Error \" + str(len(points)) + \" != 2 or 3\")\n",
    "        print(points)"
   ]
  },
  {
   "cell_type": "code",
   "execution_count": 195,
   "metadata": {},
   "outputs": [
    {
     "name": "stdout",
     "output_type": "stream",
     "text": [
      "2.8284271247461903\n",
      "3.0\n",
      "2.8284271247461903\n",
      "56.9126523718584\n",
      "39.293765408777\n",
      "56.9126523718584\n",
      "37.81639855935517\n",
      "56.9126523718584\n",
      "0.10000000000000053\n",
      "56.812674642195816\n"
     ]
    },
    {
     "data": {
      "text/plain": [
       "0.10000000000000053"
      ]
     },
     "execution_count": 195,
     "metadata": {},
     "output_type": "execute_result"
    }
   ],
   "source": [
    "closest = sys.maxsize\n",
    "ClosestPair(points,closest)"
   ]
  },
  {
   "cell_type": "code",
   "execution_count": null,
   "metadata": {},
   "outputs": [],
   "source": []
  },
  {
   "cell_type": "code",
   "execution_count": null,
   "metadata": {},
   "outputs": [],
   "source": []
  },
  {
   "cell_type": "code",
   "execution_count": null,
   "metadata": {},
   "outputs": [],
   "source": []
  },
  {
   "cell_type": "code",
   "execution_count": 24,
   "metadata": {},
   "outputs": [
    {
     "data": {
      "image/png": "[encoded data removed]",
      "text/plain": [
       "<Figure size 432x288 with 1 Axes>"
      ]
     },
     "metadata": {
      "needs_background": "light"
     },
     "output_type": "display_data"
    }
   ],
   "source": [
    "#Get closest pair\n",
    "sortbyx = sorted(points, key=lambda x: x[0])\n",
    "\n",
    "sbxmiddle = int(len(sortbyx)/2)\n",
    "    \n",
    "sbxpart1 = sortbyx[:sbxmiddle]\n",
    "sbxpart2 = sortbyx[sbxmiddle:]  \n",
    "\n",
    "plt.plot([sbxmiddle, sbxmiddle], [0, 250], 'k-', lw=2)\n",
    "plt.scatter(x,y)\n",
    "plt.show()"
   ]
  },
  {
   "cell_type": "code",
   "execution_count": null,
   "metadata": {},
   "outputs": [],
   "source": []
  }
 ],
 "metadata": {
  "kernelspec": {
   "display_name": "Python 3",
   "language": "python",
   "name": "python3"
  },
  "language_info": {
   "codemirror_mode": {
    "name": "ipython",
    "version": 3
   },
   "file_extension": ".py",
   "mimetype": "text/x-python",
   "name": "python",
   "nbconvert_exporter": "python",
   "pygments_lexer": "ipython3",
   "version": "3.8.3"
  }
 },
 "nbformat": 4,
 "nbformat_minor": 4
}
